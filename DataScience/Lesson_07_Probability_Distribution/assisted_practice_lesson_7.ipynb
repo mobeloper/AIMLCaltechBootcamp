{
 "cells": [
  {
   "cell_type": "code",
   "execution_count": null,
   "id": "34d07799-d641-48ce-99d4-e319340b1095",
   "metadata": {},
   "outputs": [],
   "source": [
    "import pandas as pd"
   ]
  },
  {
   "cell_type": "code",
   "execution_count": null,
   "id": "6a6782aa-a8db-4147-9d4d-90222c0e5397",
   "metadata": {},
   "outputs": [],
   "source": [
    "retail_data = pd.read_csv('Retail_Store_Data.csv')"
   ]
  },
  {
   "cell_type": "code",
   "execution_count": null,
   "id": "992099aa-0b22-45df-be99-aa2ed7b1a41e",
   "metadata": {},
   "outputs": [],
   "source": [
    "retail_data"
   ]
  },
  {
   "cell_type": "code",
   "execution_count": null,
   "id": "11fdd9a6-27b3-4f84-92ba-ebc2c69b6a9b",
   "metadata": {},
   "outputs": [],
   "source": [
    "retail_data['Customer_ID'].unique().shape"
   ]
  },
  {
   "cell_type": "code",
   "execution_count": null,
   "id": "1074277d-14a5-4c67-946b-c3a8b57fd8e1",
   "metadata": {},
   "outputs": [],
   "source": [
    "retail_data.isnull().sum()"
   ]
  },
  {
   "cell_type": "code",
   "execution_count": null,
   "id": "e79d0863-c8b2-45e3-9620-49ff6002d81f",
   "metadata": {},
   "outputs": [],
   "source": [
    "retail_data.info()"
   ]
  },
  {
   "cell_type": "code",
   "execution_count": null,
   "id": "b2cdf6f7-1856-4d5b-afc9-c3a9b89e2556",
   "metadata": {},
   "outputs": [],
   "source": []
  },
  {
   "cell_type": "code",
   "execution_count": null,
   "id": "263b7999-d0d2-4dbb-832e-fe8dd1769b3a",
   "metadata": {},
   "outputs": [],
   "source": [
    "import matplotlib.pyplot as plt\n",
    "import numpy as np\n",
    "from scipy.stats import poisson, gaussian_kde\n",
    "\n",
    "# Generate Poisson distributed data\n",
    "data_poisson = poisson.rvs(mu=15, size=100000)\n",
    "print(data_poisson[0:9])\n",
    "\n",
    "# Plot histogram\n",
    "plt.hist(data_poisson, bins=30, density=True, alpha=0.5, color='green')\n",
    "\n",
    "# Add labels\n",
    "plt.xlabel('Poisson')\n",
    "plt.ylabel('Frequency')\n",
    "\n",
    "# Display the plot\n",
    "plt.show()"
   ]
  },
  {
   "cell_type": "code",
   "execution_count": null,
   "id": "72ea5b4e-76d1-499f-be41-48dbe590f134",
   "metadata": {},
   "outputs": [],
   "source": [
    "counts = retail_data['Weekday'].value_counts()"
   ]
  },
  {
   "cell_type": "code",
   "execution_count": null,
   "id": "7de8da07-880c-4b76-9098-efb6df35d36a",
   "metadata": {},
   "outputs": [],
   "source": [
    "counts / 8"
   ]
  },
  {
   "cell_type": "markdown",
   "id": "c4ef2423-1b63-4fe8-a3c8-939b2b03c686",
   "metadata": {},
   "source": [
    "# normal distribution"
   ]
  },
  {
   "cell_type": "code",
   "execution_count": null,
   "id": "dc59a5ae-526f-4a25-beba-3477e1f494d1",
   "metadata": {},
   "outputs": [],
   "source": [
    "purchase_amount = retail_data['Purchase_Amount']"
   ]
  },
  {
   "cell_type": "code",
   "execution_count": null,
   "id": "a760cea7-0a8f-4c18-8af7-90d5d4524c6a",
   "metadata": {},
   "outputs": [],
   "source": [
    "import seaborn as sns"
   ]
  },
  {
   "cell_type": "code",
   "execution_count": null,
   "id": "bde05785-e3b4-4657-b703-b93c45aca962",
   "metadata": {},
   "outputs": [],
   "source": [
    "sns.histplot(retail_data, x='Purchase_Amount', kde=True)\n",
    "plt.show()"
   ]
  },
  {
   "cell_type": "code",
   "execution_count": null,
   "id": "1a7eee5c-077f-4a2b-bf20-6c6a85db36c4",
   "metadata": {},
   "outputs": [],
   "source": [
    "purchase_amount.describe()"
   ]
  },
  {
   "cell_type": "code",
   "execution_count": null,
   "id": "af1b9012-07d4-450b-86a9-3d5590e79696",
   "metadata": {},
   "outputs": [],
   "source": [
    "purchase_amount.skew()"
   ]
  },
  {
   "cell_type": "code",
   "execution_count": null,
   "id": "0af9b4f4-bb89-43d8-b51d-db746d4da937",
   "metadata": {},
   "outputs": [],
   "source": [
    "purchase_amount.kurt()"
   ]
  }
 ],
 "metadata": {
  "kernelspec": {
   "display_name": "Python 3 [3.10]",
   "language": "python",
   "name": "python3"
  },
  "language_info": {
   "codemirror_mode": {
    "name": "ipython",
    "version": 3
   },
   "file_extension": ".py",
   "mimetype": "text/x-python",
   "name": "python",
   "nbconvert_exporter": "python",
   "pygments_lexer": "ipython3",
   "version": "3.10.2"
  }
 },
 "nbformat": 4,
 "nbformat_minor": 5
}
