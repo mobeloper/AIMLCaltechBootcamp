{
 "cells": [
  {
   "cell_type": "markdown",
   "metadata": {},
   "source": []
  },
  {
   "cell_type": "code",
   "execution_count": 1,
   "metadata": {},
   "outputs": [
    {
     "data": {
      "text/html": [
       "<div>\n",
       "<style scoped>\n",
       "    .dataframe tbody tr th:only-of-type {\n",
       "        vertical-align: middle;\n",
       "    }\n",
       "\n",
       "    .dataframe tbody tr th {\n",
       "        vertical-align: top;\n",
       "    }\n",
       "\n",
       "    .dataframe thead th {\n",
       "        text-align: right;\n",
       "    }\n",
       "</style>\n",
       "<table border=\"1\" class=\"dataframe\">\n",
       "  <thead>\n",
       "    <tr style=\"text-align: right;\">\n",
       "      <th></th>\n",
       "      <th>Customer_ID</th>\n",
       "      <th>Purchase_Amount</th>\n",
       "      <th>Visit_Duration</th>\n",
       "      <th>Items_Purchased</th>\n",
       "      <th>Store_Section</th>\n",
       "      <th>Weekday</th>\n",
       "    </tr>\n",
       "  </thead>\n",
       "  <tbody>\n",
       "    <tr>\n",
       "      <th>0</th>\n",
       "      <td>1</td>\n",
       "      <td>174.835708</td>\n",
       "      <td>28.423084</td>\n",
       "      <td>2</td>\n",
       "      <td>Groceries</td>\n",
       "      <td>Tuesday</td>\n",
       "    </tr>\n",
       "    <tr>\n",
       "      <th>1</th>\n",
       "      <td>2</td>\n",
       "      <td>143.086785</td>\n",
       "      <td>21.502462</td>\n",
       "      <td>7</td>\n",
       "      <td>Electronics</td>\n",
       "      <td>Sunday</td>\n",
       "    </tr>\n",
       "    <tr>\n",
       "      <th>2</th>\n",
       "      <td>3</td>\n",
       "      <td>182.384427</td>\n",
       "      <td>80.007327</td>\n",
       "      <td>5</td>\n",
       "      <td>Apparel</td>\n",
       "      <td>Saturday</td>\n",
       "    </tr>\n",
       "    <tr>\n",
       "      <th>3</th>\n",
       "      <td>4</td>\n",
       "      <td>226.151493</td>\n",
       "      <td>87.712330</td>\n",
       "      <td>5</td>\n",
       "      <td>Groceries</td>\n",
       "      <td>Saturday</td>\n",
       "    </tr>\n",
       "    <tr>\n",
       "      <th>4</th>\n",
       "      <td>5</td>\n",
       "      <td>138.292331</td>\n",
       "      <td>13.474476</td>\n",
       "      <td>8</td>\n",
       "      <td>Groceries</td>\n",
       "      <td>Tuesday</td>\n",
       "    </tr>\n",
       "    <tr>\n",
       "      <th>...</th>\n",
       "      <td>...</td>\n",
       "      <td>...</td>\n",
       "      <td>...</td>\n",
       "      <td>...</td>\n",
       "      <td>...</td>\n",
       "      <td>...</td>\n",
       "    </tr>\n",
       "    <tr>\n",
       "      <th>995</th>\n",
       "      <td>996</td>\n",
       "      <td>135.944985</td>\n",
       "      <td>40.875154</td>\n",
       "      <td>5</td>\n",
       "      <td>Electronics</td>\n",
       "      <td>Saturday</td>\n",
       "    </tr>\n",
       "    <tr>\n",
       "      <th>996</th>\n",
       "      <td>997</td>\n",
       "      <td>239.884326</td>\n",
       "      <td>32.769184</td>\n",
       "      <td>2</td>\n",
       "      <td>Electronics</td>\n",
       "      <td>Thursday</td>\n",
       "    </tr>\n",
       "    <tr>\n",
       "      <th>997</th>\n",
       "      <td>998</td>\n",
       "      <td>182.042143</td>\n",
       "      <td>66.822989</td>\n",
       "      <td>2</td>\n",
       "      <td>Apparel</td>\n",
       "      <td>Wednesday</td>\n",
       "    </tr>\n",
       "    <tr>\n",
       "      <th>998</th>\n",
       "      <td>999</td>\n",
       "      <td>121.441051</td>\n",
       "      <td>10.605638</td>\n",
       "      <td>5</td>\n",
       "      <td>Apparel</td>\n",
       "      <td>Saturday</td>\n",
       "    </tr>\n",
       "    <tr>\n",
       "      <th>999</th>\n",
       "      <td>1000</td>\n",
       "      <td>178.629139</td>\n",
       "      <td>10.843044</td>\n",
       "      <td>5</td>\n",
       "      <td>Apparel</td>\n",
       "      <td>Friday</td>\n",
       "    </tr>\n",
       "  </tbody>\n",
       "</table>\n",
       "<p>1000 rows × 6 columns</p>\n",
       "</div>"
      ],
      "text/plain": [
       "     Customer_ID  Purchase_Amount  Visit_Duration  Items_Purchased  \\\n",
       "0              1       174.835708       28.423084                2   \n",
       "1              2       143.086785       21.502462                7   \n",
       "2              3       182.384427       80.007327                5   \n",
       "3              4       226.151493       87.712330                5   \n",
       "4              5       138.292331       13.474476                8   \n",
       "..           ...              ...             ...              ...   \n",
       "995          996       135.944985       40.875154                5   \n",
       "996          997       239.884326       32.769184                2   \n",
       "997          998       182.042143       66.822989                2   \n",
       "998          999       121.441051       10.605638                5   \n",
       "999         1000       178.629139       10.843044                5   \n",
       "\n",
       "    Store_Section    Weekday  \n",
       "0       Groceries    Tuesday  \n",
       "1     Electronics     Sunday  \n",
       "2         Apparel   Saturday  \n",
       "3       Groceries   Saturday  \n",
       "4       Groceries    Tuesday  \n",
       "..            ...        ...  \n",
       "995   Electronics   Saturday  \n",
       "996   Electronics   Thursday  \n",
       "997       Apparel  Wednesday  \n",
       "998       Apparel   Saturday  \n",
       "999       Apparel     Friday  \n",
       "\n",
       "[1000 rows x 6 columns]"
      ]
     },
     "execution_count": 1,
     "metadata": {},
     "output_type": "execute_result"
    }
   ],
   "source": [
    "import pandas as pd\n",
    "\n",
    "import matplotlib.pyplot as plt\n",
    "import numpy as np\n",
    "from scipy.stats import poisson, gaussian_kde\n",
    "\n",
    "\n",
    "retail_data = pd.read_csv('../Datasets/Retail_Store_data.csv')\n",
    "\n",
    "retail_data\n",
    "\n",
    "# Note:\n",
    "# Customers are 15 customers per hour\n"
   ]
  },
  {
   "cell_type": "code",
   "execution_count": 2,
   "metadata": {},
   "outputs": [
    {
     "data": {
      "text/plain": [
       "(1000,)"
      ]
     },
     "execution_count": 2,
     "metadata": {},
     "output_type": "execute_result"
    }
   ],
   "source": [
    "retail_data['Customer_ID'].unique().shape"
   ]
  },
  {
   "cell_type": "code",
   "execution_count": 3,
   "metadata": {},
   "outputs": [
    {
     "data": {
      "text/plain": [
       "Customer_ID        0\n",
       "Purchase_Amount    0\n",
       "Visit_Duration     0\n",
       "Items_Purchased    0\n",
       "Store_Section      0\n",
       "Weekday            0\n",
       "dtype: int64"
      ]
     },
     "execution_count": 3,
     "metadata": {},
     "output_type": "execute_result"
    }
   ],
   "source": [
    "retail_data.isnull().sum()"
   ]
  },
  {
   "cell_type": "code",
   "execution_count": 4,
   "metadata": {},
   "outputs": [
    {
     "name": "stdout",
     "output_type": "stream",
     "text": [
      "<class 'pandas.core.frame.DataFrame'>\n",
      "RangeIndex: 1000 entries, 0 to 999\n",
      "Data columns (total 6 columns):\n",
      " #   Column           Non-Null Count  Dtype  \n",
      "---  ------           --------------  -----  \n",
      " 0   Customer_ID      1000 non-null   int64  \n",
      " 1   Purchase_Amount  1000 non-null   float64\n",
      " 2   Visit_Duration   1000 non-null   float64\n",
      " 3   Items_Purchased  1000 non-null   int64  \n",
      " 4   Store_Section    1000 non-null   object \n",
      " 5   Weekday          1000 non-null   object \n",
      "dtypes: float64(2), int64(2), object(2)\n",
      "memory usage: 47.0+ KB\n"
     ]
    }
   ],
   "source": [
    "retail_data.info()"
   ]
  },
  {
   "cell_type": "markdown",
   "metadata": {},
   "source": [
    "## Poisson Distribution"
   ]
  },
  {
   "cell_type": "code",
   "execution_count": 12,
   "metadata": {},
   "outputs": [
    {
     "name": "stdout",
     "output_type": "stream",
     "text": [
      "[18 17 11 17 15 15  8 17 16]\n"
     ]
    },
    {
     "data": {
      "image/png": "[encoded data removed]",
      "text/plain": [
       "<Figure size 640x480 with 1 Axes>"
      ]
     },
     "metadata": {},
     "output_type": "display_data"
    }
   ],
   "source": [
    "# Generate Poisson distributed data\n",
    "data_poisson = poisson.rvs(mu=15, size=100_000)\n",
    "print(data_poisson[0:9])\n",
    "\n",
    "# Plot histogram\n",
    "plt.hist(data_poisson, bins=30, density=True, alpha=0.5, color='green')\n",
    "\n",
    "\n",
    "# Calculate the KDE\n",
    "kde = gaussian_kde(data_poisson)\n",
    "kde_xs = np.linspace(data_poisson.min(), data_poisson.max(), 301)\n",
    "kde_ys = kde.pdf(kde_xs)\n",
    "\n",
    "# Plot KDE\n",
    "plt.plot(kde_xs, kde_ys, color='blue')\n",
    "\n",
    "# Add labels\n",
    "plt.xlabel('Poisson')\n",
    "plt.ylabel('Frequency')\n",
    "\n",
    "# Display the plot\n",
    "plt.show()"
   ]
  },
  {
   "cell_type": "code",
   "execution_count": 6,
   "metadata": {},
   "outputs": [
    {
     "data": {
      "text/plain": [
       "Weekday\n",
       "Friday       154\n",
       "Saturday     153\n",
       "Thursday     147\n",
       "Monday       143\n",
       "Sunday       137\n",
       "Wednesday    136\n",
       "Tuesday      130\n",
       "Name: count, dtype: int64"
      ]
     },
     "execution_count": 6,
     "metadata": {},
     "output_type": "execute_result"
    }
   ],
   "source": [
    "visits_per_day = retail_data['Weekday'].value_counts()\n",
    "visits_per_day"
   ]
  },
  {
   "cell_type": "code",
   "execution_count": 7,
   "metadata": {},
   "outputs": [
    {
     "data": {
      "text/plain": [
       "Weekday\n",
       "Friday       19.250\n",
       "Saturday     19.125\n",
       "Thursday     18.375\n",
       "Monday       17.875\n",
       "Sunday       17.125\n",
       "Wednesday    17.000\n",
       "Tuesday      16.250\n",
       "Name: count, dtype: float64"
      ]
     },
     "execution_count": 7,
     "metadata": {},
     "output_type": "execute_result"
    }
   ],
   "source": [
    "visits_per_hour = visits_per_day/8 #Divide by 8 hours that the business might be opened\n",
    "visits_per_hour"
   ]
  },
  {
   "cell_type": "markdown",
   "metadata": {},
   "source": [
    "## Normal Distribution\n",
    "\n",
    "We want to know if the data Purchase_Amount follows a normal distribution.\n",
    "How do we discover that?\n",
    "We plot the data!"
   ]
  },
  {
   "cell_type": "code",
   "execution_count": 8,
   "metadata": {},
   "outputs": [
    {
     "data": {
      "text/plain": [
       "0      174.835708\n",
       "1      143.086785\n",
       "2      182.384427\n",
       "3      226.151493\n",
       "4      138.292331\n",
       "          ...    \n",
       "995    135.944985\n",
       "996    239.884326\n",
       "997    182.042143\n",
       "998    121.441051\n",
       "999    178.629139\n",
       "Name: Purchase_Amount, Length: 1000, dtype: float64"
      ]
     },
     "execution_count": 8,
     "metadata": {},
     "output_type": "execute_result"
    }
   ],
   "source": [
    "purchase_amount = retail_data['Purchase_Amount']\n",
    "purchase_amount"
   ]
  },
  {
   "cell_type": "code",
   "execution_count": 9,
   "metadata": {},
   "outputs": [
    {
     "data": {
      "text/plain": [
       "count    1000.000000\n",
       "mean      150.966603\n",
       "std        48.960797\n",
       "min       -12.063367\n",
       "25%       117.620485\n",
       "50%       151.265031\n",
       "75%       182.397194\n",
       "max       342.636575\n",
       "Name: Purchase_Amount, dtype: float64"
      ]
     },
     "execution_count": 9,
     "metadata": {},
     "output_type": "execute_result"
    }
   ],
   "source": [
    "purchase_amount.describe()"
   ]
  },
  {
   "cell_type": "code",
   "execution_count": 24,
   "metadata": {},
   "outputs": [
    {
     "data": {
      "image/png": "[encoded data removed]",
      "text/plain": [
       "<Figure size 640x480 with 1 Axes>"
      ]
     },
     "metadata": {},
     "output_type": "display_data"
    }
   ],
   "source": [
    "import matplotlib.pyplot as plt\n",
    "import seaborn as sns\n",
    "\n",
    "# sns.histplot(purchase_amount)\n",
    "# sns.histplot(purchase_amount,kde=True)\n",
    "sns.histplot(retail_data, x='Purchase_Amount')\n",
    "\n",
    "# # Calculate the KDE\n",
    "# kde = gaussian_kde(purchase_amount)\n",
    "# kde_xs = np.linspace(purchase_amount.min(), purchase_amount.max(), 301)\n",
    "# kde_ys = kde.pdf(kde_xs)\n",
    "# # Plot KDE\n",
    "# sns.lineplot(kde_xs, kde_ys, color='blue')\n",
    "\n",
    "\n",
    "plt.show()\n"
   ]
  },
  {
   "cell_type": "markdown",
   "metadata": {},
   "source": [
    "## More indicators\n",
    "We can also take a look at other indicators li"
   ]
  },
  {
   "cell_type": "code",
   "execution_count": null,
   "metadata": {},
   "outputs": [
    {
     "data": {
      "text/plain": [
       "0.11697636882001321"
      ]
     },
     "execution_count": 15,
     "metadata": {},
     "output_type": "execute_result"
    }
   ],
   "source": [
    "purchase_amount.skew()"
   ]
  },
  {
   "cell_type": "code",
   "execution_count": null,
   "metadata": {},
   "outputs": [
    {
     "data": {
      "text/plain": [
       "0.07256220235414812"
      ]
     },
     "execution_count": 14,
     "metadata": {},
     "output_type": "execute_result"
    }
   ],
   "source": [
    "purchase_amount.kurt()"
   ]
  },
  {
   "cell_type": "markdown",
   "metadata": {},
   "source": [
    "The Shapiro-Wilk test checks for normality. If the p-value is greater than 0.05 (α = 0.05), we assume normality."
   ]
  },
  {
   "cell_type": "code",
   "execution_count": null,
   "metadata": {},
   "outputs": [
    {
     "name": "stdout",
     "output_type": "stream",
     "text": [
      "Shapiro-Wilk test: p-value = 0.626924\n"
     ]
    }
   ],
   "source": [
    "from scipy.stats import shapiro\n",
    "\n",
    "\n",
    "# Perform Shapiro-Wilk test for normality\n",
    "\n",
    "result = shapiro(purchase_amount)\n",
    "\n",
    "print(f\"Shapiro-Wilk test: p-value = {result.pvalue:.6f}\")\n"
   ]
  },
  {
   "cell_type": "code",
   "execution_count": null,
   "metadata": {},
   "outputs": [],
   "source": []
  }
 ],
 "metadata": {
  "kernelspec": {
   "display_name": "base",
   "language": "python",
   "name": "python3"
  },
  "language_info": {
   "codemirror_mode": {
    "name": "ipython",
    "version": 3
   },
   "file_extension": ".py",
   "mimetype": "text/x-python",
   "name": "python",
   "nbconvert_exporter": "python",
   "pygments_lexer": "ipython3",
   "version": "3.8.8"
  }
 },
 "nbformat": 4,
 "nbformat_minor": 2
}
