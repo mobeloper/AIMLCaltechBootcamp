{
 "cells": [
  {
   "cell_type": "markdown",
   "metadata": {},
   "source": [
    "## __Steps to Perform:__\n",
    "- Load the housing dataset into a Pandas DataFrame\n",
    "- Familiarize with the DataFrame basics such as its structure, data types of the columns, and summary statistics\n",
    "- Calculate descriptive statistics like mean, median, and standard deviation for numerical columns such as __LotArea__, __YearBuilt__, __1stFlrSF__, __2ndFlrSF__, and __SalePrice__\n",
    "- Determine the correlation between different numerical variables such as __LotArea__ and __SalePrice__, __YearBuilt__ and __SalePrice__, __1stFlrSF__ and __SalePrice__, and __2ndFlrSF__ and __SalePrice__\n",
    "- Count the number of occurrences of each category in categorical variables such as __Neighborhood__, __BldgType__, and __HouseStyle__"
   ]
  },
  {
   "cell_type": "code",
   "execution_count": 39,
   "metadata": {},
   "outputs": [
    {
     "name": "stdout",
     "output_type": "stream",
     "text": [
      "                  date      price  bedrooms  bathrooms  sqft_living  sqft_lot  \\\n",
      "0  2014-05-02 00:00:00   313000.0       3.0       1.50         1340      7912   \n",
      "1  2014-05-02 00:00:00  2384000.0       5.0       2.50         3650      9050   \n",
      "2  2014-05-02 00:00:00   342000.0       3.0       2.00         1930     11947   \n",
      "3  2014-05-02 00:00:00   420000.0       3.0       2.25         2000      8030   \n",
      "4  2014-05-02 00:00:00   550000.0       4.0       2.50         1940     10500   \n",
      "\n",
      "   floors  waterfront  view  condition  sqft_above  sqft_basement  yr_built  \\\n",
      "0     1.5           0     0          3        1340              0      1955   \n",
      "1     2.0           0     4          5        3370            280      1921   \n",
      "2     1.0           0     0          4        1930              0      1966   \n",
      "3     1.0           0     0          4        1000           1000      1963   \n",
      "4     1.0           0     0          4        1140            800      1976   \n",
      "\n",
      "   yr_renovated                    street       city  statezip country  \n",
      "0          2005      18810 Densmore Ave N  Shoreline  WA 98133     USA  \n",
      "1             0           709 W Blaine St    Seattle  WA 98119     USA  \n",
      "2             0  26206-26214 143rd Ave SE       Kent  WA 98042     USA  \n",
      "3             0           857 170th Pl NE   Bellevue  WA 98008     USA  \n",
      "4          1992         9105 170th Ave NE    Redmond  WA 98052     USA  \n",
      "<class 'pandas.core.frame.DataFrame'>\n",
      "RangeIndex: 4600 entries, 0 to 4599\n",
      "Data columns (total 18 columns):\n",
      " #   Column         Non-Null Count  Dtype  \n",
      "---  ------         --------------  -----  \n",
      " 0   date           4600 non-null   object \n",
      " 1   price          4600 non-null   float64\n",
      " 2   bedrooms       4600 non-null   float64\n",
      " 3   bathrooms      4600 non-null   float64\n",
      " 4   sqft_living    4600 non-null   int64  \n",
      " 5   sqft_lot       4600 non-null   int64  \n",
      " 6   floors         4600 non-null   float64\n",
      " 7   waterfront     4600 non-null   int64  \n",
      " 8   view           4600 non-null   int64  \n",
      " 9   condition      4600 non-null   int64  \n",
      " 10  sqft_above     4600 non-null   int64  \n",
      " 11  sqft_basement  4600 non-null   int64  \n",
      " 12  yr_built       4600 non-null   int64  \n",
      " 13  yr_renovated   4600 non-null   int64  \n",
      " 14  street         4600 non-null   object \n",
      " 15  city           4600 non-null   object \n",
      " 16  statezip       4600 non-null   object \n",
      " 17  country        4600 non-null   object \n",
      "dtypes: float64(4), int64(9), object(5)\n",
      "memory usage: 647.0+ KB\n",
      "None\n",
      "              price     bedrooms    bathrooms   sqft_living      sqft_lot  \\\n",
      "count  4.600000e+03  4600.000000  4600.000000   4600.000000  4.600000e+03   \n",
      "mean   5.519630e+05     3.400870     2.160815   2139.346957  1.485252e+04   \n",
      "std    5.638347e+05     0.908848     0.783781    963.206916  3.588444e+04   \n",
      "min    0.000000e+00     0.000000     0.000000    370.000000  6.380000e+02   \n",
      "25%    3.228750e+05     3.000000     1.750000   1460.000000  5.000750e+03   \n",
      "50%    4.609435e+05     3.000000     2.250000   1980.000000  7.683000e+03   \n",
      "75%    6.549625e+05     4.000000     2.500000   2620.000000  1.100125e+04   \n",
      "max    2.659000e+07     9.000000     8.000000  13540.000000  1.074218e+06   \n",
      "\n",
      "            floors   waterfront         view    condition   sqft_above  \\\n",
      "count  4600.000000  4600.000000  4600.000000  4600.000000  4600.000000   \n",
      "mean      1.512065     0.007174     0.240652     3.451739  1827.265435   \n",
      "std       0.538288     0.084404     0.778405     0.677230   862.168977   \n",
      "min       1.000000     0.000000     0.000000     1.000000   370.000000   \n",
      "25%       1.000000     0.000000     0.000000     3.000000  1190.000000   \n",
      "50%       1.500000     0.000000     0.000000     3.000000  1590.000000   \n",
      "75%       2.000000     0.000000     0.000000     4.000000  2300.000000   \n",
      "max       3.500000     1.000000     4.000000     5.000000  9410.000000   \n",
      "\n",
      "       sqft_basement     yr_built  yr_renovated  \n",
      "count    4600.000000  4600.000000   4600.000000  \n",
      "mean      312.081522  1970.786304    808.608261  \n",
      "std       464.137228    29.731848    979.414536  \n",
      "min         0.000000  1900.000000      0.000000  \n",
      "25%         0.000000  1951.000000      0.000000  \n",
      "50%         0.000000  1976.000000      0.000000  \n",
      "75%       610.000000  1997.000000   1999.000000  \n",
      "max      4820.000000  2014.000000   2014.000000  \n"
     ]
    }
   ],
   "source": [
    "import pandas as pd\n",
    "\n",
    "\n",
    "house_prices = pd.read_csv('../Datasets/HousePrices.csv')\n",
    "\n",
    "df = house_prices\n",
    "# df = house_prices[['price','bedrooms','street','city']]\n",
    "\n",
    "print(df.head())\n",
    "print(df.info())\n",
    "\n",
    "print(df.describe())\n",
    "\n",
    "\n"
   ]
  },
  {
   "cell_type": "code",
   "execution_count": 34,
   "metadata": {},
   "outputs": [
    {
     "name": "stdout",
     "output_type": "stream",
     "text": [
      "  description  price  sqft_lot\n",
      "0        mean      0         0\n",
      "1         std      0         0\n"
     ]
    }
   ],
   "source": [
    "\n",
    "\n",
    "\n",
    "# Create a sample DataFrame with numeric columns\n",
    "data = {'description': ['mean','std'],\n",
    "        'price': [0,0],\n",
    "        'sqft_lot': [0,0]}\n",
    "\n",
    "dataStats = pd.DataFrame(data)\n",
    "print(dataStats)\n"
   ]
  },
  {
   "cell_type": "code",
   "execution_count": null,
   "metadata": {},
   "outputs": [],
   "source": [
    "\n",
    "\n",
    "print('price (mean): ',df['price'].mean())\n",
    "print('price (std): ',df['price'].std())\n",
    "\n",
    "print('sqft_lot (mean): ',df['sqft_lot'].mean())\n",
    "print('sqft_lot (std): ',df['sqft_lot'].std())\n",
    "\n",
    "#exclude categorical columns in the describe\n",
    "#numerical_only = df.describe(exclude=['0','14','15','16','17'])\n",
    "\n",
    "# df.corr(numeric_only=True)\n",
    "\n",
    "\n"
   ]
  },
  {
   "cell_type": "code",
   "execution_count": 24,
   "metadata": {},
   "outputs": [
    {
     "data": {
      "text/plain": [
       "yr_renovated\n",
       "0       2735\n",
       "1912      33\n",
       "1913       1\n",
       "1923      57\n",
       "1934       6\n",
       "1945       7\n",
       "1948       1\n",
       "1953       1\n",
       "1954       8\n",
       "1955       2\n",
       "1956      15\n",
       "1958       5\n",
       "1960       1\n",
       "1963      12\n",
       "1966       1\n",
       "1968       9\n",
       "1969      11\n",
       "1970       9\n",
       "1971       5\n",
       "1972      17\n",
       "1974       6\n",
       "1975       1\n",
       "1977       1\n",
       "1978       3\n",
       "1979      32\n",
       "1980       2\n",
       "1981       1\n",
       "1982      22\n",
       "1983      41\n",
       "1984      10\n",
       "1985      29\n",
       "1986       5\n",
       "1987       1\n",
       "1988      43\n",
       "1989      55\n",
       "1990      16\n",
       "1991       1\n",
       "1992      32\n",
       "1993      39\n",
       "1994      57\n",
       "1995       2\n",
       "1996      22\n",
       "1997      28\n",
       "1998      40\n",
       "1999      41\n",
       "2000     170\n",
       "2001     109\n",
       "2002      41\n",
       "2003     151\n",
       "2004      77\n",
       "2005      95\n",
       "2006      68\n",
       "2007       7\n",
       "2008      45\n",
       "2009     109\n",
       "2010      30\n",
       "2011      54\n",
       "2012      45\n",
       "2013      61\n",
       "2014      72\n",
       "Name: count, dtype: int64"
      ]
     },
     "execution_count": 24,
     "metadata": {},
     "output_type": "execute_result"
    }
   ],
   "source": [
    "\n",
    "\n",
    "\n",
    "df['street'].value_counts()\n",
    "renovations = df['yr_renovated'].value_counts()\n",
    "\n",
    "renovations.sort_values(ascending=True)\n",
    "renovations.sort_index(ascending=True)\n"
   ]
  },
  {
   "cell_type": "code",
   "execution_count": 25,
   "metadata": {},
   "outputs": [
    {
     "data": {
      "text/plain": [
       "2735"
      ]
     },
     "execution_count": 25,
     "metadata": {},
     "output_type": "execute_result"
    }
   ],
   "source": [
    "renovations.max()"
   ]
  },
  {
   "cell_type": "code",
   "execution_count": null,
   "metadata": {},
   "outputs": [],
   "source": []
  }
 ],
 "metadata": {
  "kernelspec": {
   "display_name": "base",
   "language": "python",
   "name": "python3"
  },
  "language_info": {
   "codemirror_mode": {
    "name": "ipython",
    "version": 3
   },
   "file_extension": ".py",
   "mimetype": "text/x-python",
   "name": "python",
   "nbconvert_exporter": "python",
   "pygments_lexer": "ipython3",
   "version": "3.8.8"
  }
 },
 "nbformat": 4,
 "nbformat_minor": 2
}
