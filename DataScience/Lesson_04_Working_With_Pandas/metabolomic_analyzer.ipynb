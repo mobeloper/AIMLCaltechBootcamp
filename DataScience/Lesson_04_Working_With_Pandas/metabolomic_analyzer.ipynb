{
 "cells": [
  {
   "cell_type": "code",
   "execution_count": 119,
   "metadata": {},
   "outputs": [
    {
     "name": "stdout",
     "output_type": "stream",
     "text": [
      "shape: (49495, 13)\n",
      "<class 'pandas.core.frame.DataFrame'>\n",
      "RangeIndex: 49495 entries, 0 to 49494\n",
      "Data columns (total 13 columns):\n",
      " #   Column           Non-Null Count  Dtype  \n",
      "---  ------           --------------  -----  \n",
      " 0   id               49495 non-null  uint64 \n",
      " 1   charge           49495 non-null  int64  \n",
      " 2   RT               49495 non-null  float64\n",
      " 3   mz               49495 non-null  float64\n",
      " 4   quality          49495 non-null  float64\n",
      " 5   PS-004_pos.mzML  49495 non-null  float64\n",
      " 6   PS-005_pos.mzML  49495 non-null  float64\n",
      " 7   PS-006_pos.mzML  49495 non-null  float64\n",
      " 8   PS-003_pos.mzML  49495 non-null  float64\n",
      " 9   PS-002_pos.mzML  49495 non-null  float64\n",
      " 10  PS-001_pos.mzML  49495 non-null  float64\n",
      " 11  adduct           3121 non-null   object \n",
      " 12  feature_ids      49495 non-null  object \n",
      "dtypes: float64(9), int64(1), object(2), uint64(1)\n",
      "memory usage: 4.9+ MB\n",
      "None\n",
      "                     id  charge          RT           mz   quality  \\\n",
      "0    732625925117994362       0  461.662283   427.305227  0.000076   \n",
      "1  10620833588695795762       1  687.701637   548.922087  0.000912   \n",
      "2  15780348932047275963       1  452.331274  1014.627912  0.000002   \n",
      "3   1215588143477553901       0  455.242902   281.029288  0.000042   \n",
      "4  17957781027997962665       0  173.558790   776.575997  0.000002   \n",
      "\n",
      "   PS-004_pos.mzML  PS-005_pos.mzML  PS-006_pos.mzML  PS-003_pos.mzML  \\\n",
      "0       15701210.0        7173038.0       11041340.0       12099880.0   \n",
      "1      120768600.0      199605100.0      170537200.0      253582600.0   \n",
      "2         284261.3         515598.1         603316.5         266451.4   \n",
      "3        5283908.0        5188950.0        1561755.0       25420770.0   \n",
      "4         305784.2         706792.3         685041.4         212070.3   \n",
      "\n",
      "   PS-002_pos.mzML  PS-001_pos.mzML  adduct  \\\n",
      "0       16432750.0       20324920.0  [M+H]+   \n",
      "1      231528900.0       88934680.0  [M+H]+   \n",
      "2         177986.9         201132.5  [M+H]+   \n",
      "3        5544724.0        9732774.0  [M+H]+   \n",
      "4         135819.9         161948.5  [M+H]+   \n",
      "\n",
      "                                         feature_ids  \n",
      "0  [290181549621826224, 14278792375946816409, 350...  \n",
      "1  [299081956137187594, 16463799975712545084, 675...  \n",
      "2  [589030055038508837, 7472534103554544974, 1133...  \n",
      "3  [591336405388444611, 1790170237085161213, 1829...  \n",
      "4  [1110626903536046212, 38596737176573134, 12983...  \n"
     ]
    }
   ],
   "source": [
    "import pandas as pd\n",
    "\n",
    "# example:\n",
    "# b = trim_float(71.013829,4)\n",
    "def trim_float(number,digits):\n",
    "    zeros = '0' * digits\n",
    "    scale = int('1'+zeros)\n",
    "    #trimmed float number\n",
    "    return float(int(number * scale) / scale)\n",
    "\n",
    "\n",
    "##Read TSV file\n",
    "# TSV is a file type where fields are separated by tab. \n",
    "tsv_file='../Datasets/output_quantification_Linked_data_exp4.tsv'\n",
    "seqera_outcome_original = pd.read_table(tsv_file,sep='\\t')\n",
    "\n",
    "##Read CSV file\n",
    "# seqera_outcome_original = pd.read_csv('../Datasets/output_quantification_exp3.csv')\n",
    "#seqera_outcome_original = pd.read_csv('../Datasets/output_quantification_exp4.csv')\n",
    "\n",
    "\n",
    "print(f'shape: { seqera_outcome_original.shape}')\n",
    "\n",
    "data_info = seqera_outcome_original.info()\n",
    "print(data_info)\n",
    "\n",
    "print(seqera_outcome_original.head())\n",
    "\n",
    "\n",
    "# control_samples = ['PS-001_neg.mzML',\n",
    "#                   'PS-002_neg.mzML',\n",
    "#                   'PS-003_neg.mzML']\n",
    "\n",
    "# treatment_samples = ['PS-004_neg.mzML',\n",
    "#                   'PS-005_neg.mzML',\n",
    "#                   'PS-006_neg.mzML']\n",
    "\n",
    "control_samples = ['PS-001_pos.mzML',\n",
    "                  'PS-002_pos.mzML',\n",
    "                  'PS-003_pos.mzML']\n",
    "\n",
    "treatment_samples = ['PS-004_pos.mzML',\n",
    "                  'PS-005_pos.mzML',\n",
    "                  'PS-006_pos.mzML']\n",
    "\n",
    "\n",
    "control_mean = ['control_mean']\n",
    "experimental_mean = ['experimental_mean']\n",
    "\n",
    "target_columns = ['mz']+control_samples+treatment_samples\n",
    "\n"
   ]
  },
  {
   "cell_type": "code",
   "execution_count": 120,
   "metadata": {},
   "outputs": [
    {
     "name": "stdout",
     "output_type": "stream",
     "text": [
      "<class 'pandas.core.frame.DataFrame'>\n",
      "RangeIndex: 49495 entries, 0 to 49494\n",
      "Data columns (total 7 columns):\n",
      " #   Column           Non-Null Count  Dtype  \n",
      "---  ------           --------------  -----  \n",
      " 0   mz               49495 non-null  float64\n",
      " 1   PS-001_pos.mzML  49495 non-null  float64\n",
      " 2   PS-002_pos.mzML  49495 non-null  float64\n",
      " 3   PS-003_pos.mzML  49495 non-null  float64\n",
      " 4   PS-004_pos.mzML  49495 non-null  float64\n",
      " 5   PS-005_pos.mzML  49495 non-null  float64\n",
      " 6   PS-006_pos.mzML  49495 non-null  float64\n",
      "dtypes: float64(7)\n",
      "memory usage: 2.6 MB\n",
      "None\n",
      "dataset shape: (49495, 7)\n",
      "dataset shape: (160, 7)\n",
      "                mz  PS-001_pos.mzML  PS-002_pos.mzML  PS-003_pos.mzML  \\\n",
      "count   160.000000     1.600000e+02     1.600000e+02     1.600000e+02   \n",
      "mean    479.358087     5.949548e+07     5.331519e+07     8.850235e+07   \n",
      "std     244.573582     2.178193e+08     1.891272e+08     4.060769e+08   \n",
      "min      88.075508     1.598427e+04     1.713409e+04     6.794328e+03   \n",
      "25%     265.650315     5.941020e+05     5.558406e+05     3.750462e+05   \n",
      "50%     465.222948     6.030254e+06     6.915926e+06     6.406512e+06   \n",
      "75%     714.976694     2.917912e+07     2.244518e+07     3.459669e+07   \n",
      "max    1088.629293     2.001616e+09     1.817755e+09     4.588858e+09   \n",
      "\n",
      "       PS-004_pos.mzML  PS-005_pos.mzML  PS-006_pos.mzML  \n",
      "count     1.600000e+02     1.600000e+02     1.600000e+02  \n",
      "mean      6.070757e+07     8.009422e+07     6.517276e+07  \n",
      "std       2.405416e+08     3.954693e+08     2.711752e+08  \n",
      "min       1.078142e+04     1.257370e+04     1.652132e+04  \n",
      "25%       6.206994e+05     5.219955e+05     8.159934e+05  \n",
      "50%       6.703462e+06     6.563956e+06     6.455832e+06  \n",
      "75%       2.734430e+07     3.509849e+07     3.141676e+07  \n",
      "max       2.251087e+09     4.609356e+09     2.886993e+09  \n",
      "value_counts_mz:  mzTrim\n",
      "194.0922    3\n",
      "147.1600    2\n",
      "191.1862    2\n",
      "455.3005    2\n",
      "427.3052    1\n",
      "           ..\n",
      "175.0975    1\n",
      "654.9700    1\n",
      "377.1451    1\n",
      "175.0979    1\n",
      "228.1814    1\n",
      "Name: count, Length: 155, dtype: int64\n",
      "Detected unique metabolites:  155\n",
      "====\n",
      "<class 'pandas.core.frame.DataFrame'>\n",
      "Index: 160 entries, 0 to 159\n",
      "Data columns (total 10 columns):\n",
      " #   Column           Non-Null Count  Dtype  \n",
      "---  ------           --------------  -----  \n",
      " 0   mz               160 non-null    float64\n",
      " 1   PS-001_pos.mzML  160 non-null    float64\n",
      " 2   PS-002_pos.mzML  160 non-null    float64\n",
      " 3   PS-003_pos.mzML  160 non-null    float64\n",
      " 4   PS-004_pos.mzML  160 non-null    float64\n",
      " 5   PS-005_pos.mzML  160 non-null    float64\n",
      " 6   PS-006_pos.mzML  160 non-null    float64\n",
      " 7   mzTrim           160 non-null    float64\n",
      " 8   control_mean     160 non-null    int64  \n",
      " 9   treatment_mean   160 non-null    int64  \n",
      "dtypes: float64(8), int64(2)\n",
      "memory usage: 17.8 KB\n",
      "None\n"
     ]
    }
   ],
   "source": [
    "combined_dataset = seqera_outcome_original\n",
    "dataset = seqera_outcome_original[target_columns]\n",
    "print(dataset.info())\n",
    "\n",
    "print(f'dataset shape: { dataset.shape}')\n",
    "\n",
    "#Drop rows that contain at least one zero\n",
    "dataset = dataset[(dataset != 0).all(1)]\n",
    "\n",
    "# # drop rows with all zeros\n",
    "# dataset = dataset.loc[(dataset!=0).any(axis=1)]\n",
    "\n",
    "\n",
    "print(f'dataset shape: { dataset.shape}')\n",
    "\n",
    "print(dataset.describe())\n",
    "\n",
    "\n",
    "#trim values of mz to 4 digits for better count\n",
    "mzTrimmed = dataset['mz'].apply(lambda x: trim_float(x,4))\n",
    "dataset['mzTrim'] = mzTrimmed\n",
    "combined_dataset['mzTrim'] = mzTrimmed\n",
    "\n",
    "#take mean of the control samples\n",
    "ctrlMean = round(dataset[control_samples].mean(axis=1))\n",
    "dataset['control_mean'] = ctrlMean.astype('int64')\n",
    "combined_dataset['control_mean'] = ctrlMean.astype('int64')\n",
    "\n",
    "#take mean of the experiment samples\n",
    "treatMean = dataset[treatment_samples].mean(axis=1)\n",
    "dataset['treatment_mean'] = treatMean.astype('int64')\n",
    "combined_dataset['treatment_mean'] = treatMean.astype('int64')\n",
    "\n",
    "\n",
    "# Count occurrences of unique values in the category column\n",
    "mz_counts = dataset['mzTrim'].value_counts()\n",
    "\n",
    "# mz_counts = mz_counts.sort_values(ascending=True)\n",
    "# mz_counts = mz_counts.sort_index(ascending=True)\n",
    "\n",
    "print('value_counts_mz: ', mz_counts)\n",
    "print('Detected unique metabolites: ', len(mz_counts))\n",
    "\n",
    "print('====')\n",
    "print(dataset.info())\n",
    "\n",
    "# print('====')\n",
    "# print(combined_dataset.info())\n",
    "\n"
   ]
  },
  {
   "cell_type": "code",
   "execution_count": 121,
   "metadata": {},
   "outputs": [
    {
     "name": "stdout",
     "output_type": "stream",
     "text": [
      "mzTrim\n",
      "88.0755        38189043\n",
      "99.0745         2955229\n",
      "99.0746          444617\n",
      "114.0660     1186184467\n",
      "123.0789        1564360\n",
      "                ...    \n",
      "1004.6422        368814\n",
      "1006.6562        254596\n",
      "1014.6279        215190\n",
      "1025.6755        728120\n",
      "1088.6292        607663\n",
      "Name: control_mean, Length: 155, dtype: int64\n",
      "           control_mean  treatment_mean\n",
      "mzTrim                                 \n",
      "88.0755        38189043        48420230\n",
      "99.0745         2955229         1606191\n",
      "99.0746          444617         2268312\n",
      "114.0660     1186184467      1368560333\n",
      "123.0789        1564360          585377\n",
      "...                 ...             ...\n",
      "1004.6422        368814          537088\n",
      "1006.6562        254596          361145\n",
      "1014.6279        215190          467725\n",
      "1025.6755        728120          923378\n",
      "1088.6292        607663          278075\n",
      "\n",
      "[155 rows x 2 columns]\n",
      "====\n",
      "<class 'pandas.core.frame.DataFrame'>\n",
      "Index: 155 entries, 88.0755 to 1088.6292\n",
      "Data columns (total 2 columns):\n",
      " #   Column          Non-Null Count  Dtype\n",
      "---  ------          --------------  -----\n",
      " 0   control_mean    155 non-null    int64\n",
      " 1   treatment_mean  155 non-null    int64\n",
      "dtypes: int64(2)\n",
      "memory usage: 3.6 KB\n",
      "None\n"
     ]
    },
    {
     "data": {
      "text/plain": [
       "155"
      ]
     },
     "execution_count": 121,
     "metadata": {},
     "output_type": "execute_result"
    }
   ],
   "source": [
    "\n",
    "#Combine all mzTrim that have the same value\n",
    "mz_control = dataset.groupby('mzTrim', group_keys=True)['control_mean'].sum()\n",
    "mz_treatment = dataset.groupby('mzTrim', group_keys=True)['treatment_mean'].sum()\n",
    "\n",
    "type(mz_control)\n",
    "\n",
    "print(mz_control)\n",
    "\n",
    "# mz_control.to_csv('mz_control.csv', index=True, encoding='')\n",
    "# mz_treatment.to_csv('mz_treatment.csv', index=True, encoding='')\n",
    "\n",
    "\n",
    "# data = {\"mzTrim\": mz_control('mzTrim'),\n",
    "#         \"control_mean\": mz_control('control_mean'),\n",
    "#         \"treatment_mean\": mz_treatment('treatment_mean')}\n",
    "\n",
    "grouped_mz = pd.DataFrame(mz_control)\n",
    "temporal = pd.DataFrame(mz_treatment)\n",
    "grouped_mz['treatment_mean']=temporal['treatment_mean']\n",
    "\n",
    "print(grouped_mz)\n",
    "\n",
    "print('====')\n",
    "print(grouped_mz.info())\n",
    "\n",
    "\n",
    "# # grouped_mz['treatment_mean'] = mz_treatment('treatment_mean')\n",
    "\n",
    "len(grouped_mz)\n"
   ]
  },
  {
   "cell_type": "code",
   "execution_count": 122,
   "metadata": {},
   "outputs": [],
   "source": [
    "\n",
    "#Save data sets to CSV files\n",
    "# combined_dataset.to_csv('out_data_combined.csv', index=False, encoding='')\n",
    "dataset.to_csv('out_data_clean.csv', index=False, encoding='')  # Index will determine if the index will be saved\n",
    "mz_counts.to_csv('mz_counts.csv', index=True, encoding='')  # Index will determine if the index will be saved\n",
    "\n",
    "grouped_mz.to_csv('grouped_mz.csv', index=True, encoding='')\n",
    "\n"
   ]
  },
  {
   "cell_type": "code",
   "execution_count": 123,
   "metadata": {},
   "outputs": [
    {
     "data": {
      "application/vnd.plotly.v1+json": {
       "config": {
        "plotlyServerURL": "https://plot.ly"
       },
       "data": [
        {
         "hovertemplate": "variable=control_mean<br>mzTrim=%{x}<br>value=%{y}<extra></extra>",
         "legendgroup": "control_mean",
         "line": {
          "color": "#636efa",
          "dash": "solid"
         },
         "marker": {
          "symbol": "circle"
         },
         "mode": "lines",
         "name": "control_mean",
         "orientation": "v",
         "showlegend": true,
         "type": "scatter",
         "x": [
          88.0755,
          99.0745,
          99.0746,
          114.066,
          123.0789,
          130.086,
          136.0614,
          147.16,
          151.0976,
          151.0977,
          152.0538,
          157.1444,
          167.0924,
          170.092,
          175.0975,
          175.0979,
          176.113,
          180.0766,
          180.0769,
          191.0729,
          191.1862,
          194.0922,
          210.1234,
          210.1235,
          210.1377,
          227.1639,
          228.1814,
          235.0602,
          235.0603,
          239.1638,
          240.1716,
          240.1717,
          240.2428,
          248.2077,
          254.1162,
          255.2285,
          269.1242,
          269.1243,
          270.1917,
          281.0292,
          291.1154,
          298.1786,
          306.1663,
          306.1664,
          309.1468,
          324.1942,
          330.2455,
          336.1579,
          348.1938,
          361.1908,
          367.2364,
          368.1953,
          369.1209,
          373.2418,
          377.1451,
          379.1207,
          383.1158,
          383.2214,
          385.2473,
          389.1849,
          393.1584,
          397.2108,
          410.2789,
          411.111,
          411.2629,
          424.2581,
          426.2741,
          427.3052,
          434.6902,
          436.2945,
          438.274,
          453.3211,
          455.1479,
          455.3005,
          465.2026,
          465.2432,
          466.1754,
          466.2007,
          467.299,
          468.284,
          468.3069,
          469.1553,
          469.3151,
          471.2475,
          473.2152,
          474.2309,
          479.3366,
          479.3369,
          480.3426,
          481.3156,
          482.3236,
          484.7321,
          486.7471,
          489.213,
          492.3074,
          495.3317,
          500.3035,
          514.9247,
          522.3545,
          524.3706,
          524.7544,
          528.2,
          548.922,
          550.919,
          614.1923,
          654.97,
          669.2041,
          691.1845,
          693.471,
          699.4065,
          703.5729,
          707.1594,
          710.4969,
          712.928,
          714.4505,
          716.5549,
          727.4904,
          740.5218,
          742.5374,
          744.5888,
          749.544,
          751.6732,
          752.5186,
          755.5196,
          760.6232,
          761.5847,
          762.5407,
          764.5205,
          766.5586,
          768.5501,
          768.5867,
          769.5725,
          774.5403,
          775.4873,
          776.5555,
          776.5759,
          780.5502,
          781.5346,
          790.5353,
          790.5626,
          792.5522,
          794.5664,
          794.5914,
          796.5809,
          812.5204,
          814.5353,
          859.5295,
          870.6216,
          881.4714,
          977.6166,
          1004.6422,
          1006.6562,
          1014.6279,
          1025.6755,
          1088.6292
         ],
         "xaxis": "x",
         "y": [
          38189043,
          2955229,
          444617,
          1186184467,
          1564360,
          7380647,
          960148333,
          36767905,
          8502327,
          9177675,
          35024970,
          47072467,
          97974267,
          94189840,
          1918195,
          1695002,
          341271433,
          607188,
          707974,
          195378210,
          109195680,
          2574529,
          429971,
          421550,
          1128788,
          188290100,
          23301457,
          584235300,
          1208289500,
          23024697,
          72752803,
          99568753,
          182463,
          925190,
          6567778,
          12486150,
          395575,
          130481,
          17219577,
          13566089,
          53469720,
          38990273,
          420113,
          216553,
          13183262,
          76007347,
          5170284,
          20808353,
          329873,
          580753,
          10095144,
          194218,
          44198,
          205625,
          23931820,
          1706404,
          1866527,
          102818,
          16267287,
          131942,
          43999930,
          12687815,
          56335620,
          20534660,
          21820350,
          13333240,
          7149675,
          16285850,
          26485903,
          65286040,
          7921418,
          107302477,
          134289,
          31943869,
          5384929,
          7028292,
          4350874,
          2527697667,
          22454593,
          14811467,
          13615757,
          122091,
          22479917,
          51110,
          119615473,
          1746188,
          27940643,
          116680133,
          3769313,
          14745330,
          8634817,
          129879,
          58381,
          8394079,
          7567558,
          16542820,
          337724,
          12786758,
          48865687,
          25282773,
          177851,
          65385870,
          191348727,
          121686277,
          1192013,
          169065427,
          2383385,
          417086333,
          23465,
          202526,
          64474187,
          4056748,
          136624,
          87331707,
          1484263,
          279932,
          28583,
          30740573,
          20928280,
          575633,
          283232,
          689292,
          450551,
          211483,
          8202463,
          1234248,
          5431372,
          44383650,
          24244587,
          118812000,
          678015,
          8871361,
          38967680,
          10224872,
          45849823,
          169946,
          3547305,
          174481,
          40513833,
          726864,
          646425,
          24459313,
          2156492,
          10232652,
          3053669,
          3106255,
          521464,
          24309,
          107382,
          78326,
          368814,
          254596,
          215190,
          728120,
          607663
         ],
         "yaxis": "y"
        },
        {
         "hovertemplate": "variable=treatment_mean<br>mzTrim=%{x}<br>value=%{y}<extra></extra>",
         "legendgroup": "treatment_mean",
         "line": {
          "color": "#EF553B",
          "dash": "solid"
         },
         "marker": {
          "symbol": "circle"
         },
         "mode": "lines",
         "name": "treatment_mean",
         "orientation": "v",
         "showlegend": true,
         "type": "scatter",
         "x": [
          88.0755,
          99.0745,
          99.0746,
          114.066,
          123.0789,
          130.086,
          136.0614,
          147.16,
          151.0976,
          151.0977,
          152.0538,
          157.1444,
          167.0924,
          170.092,
          175.0975,
          175.0979,
          176.113,
          180.0766,
          180.0769,
          191.0729,
          191.1862,
          194.0922,
          210.1234,
          210.1235,
          210.1377,
          227.1639,
          228.1814,
          235.0602,
          235.0603,
          239.1638,
          240.1716,
          240.1717,
          240.2428,
          248.2077,
          254.1162,
          255.2285,
          269.1242,
          269.1243,
          270.1917,
          281.0292,
          291.1154,
          298.1786,
          306.1663,
          306.1664,
          309.1468,
          324.1942,
          330.2455,
          336.1579,
          348.1938,
          361.1908,
          367.2364,
          368.1953,
          369.1209,
          373.2418,
          377.1451,
          379.1207,
          383.1158,
          383.2214,
          385.2473,
          389.1849,
          393.1584,
          397.2108,
          410.2789,
          411.111,
          411.2629,
          424.2581,
          426.2741,
          427.3052,
          434.6902,
          436.2945,
          438.274,
          453.3211,
          455.1479,
          455.3005,
          465.2026,
          465.2432,
          466.1754,
          466.2007,
          467.299,
          468.284,
          468.3069,
          469.1553,
          469.3151,
          471.2475,
          473.2152,
          474.2309,
          479.3366,
          479.3369,
          480.3426,
          481.3156,
          482.3236,
          484.7321,
          486.7471,
          489.213,
          492.3074,
          495.3317,
          500.3035,
          514.9247,
          522.3545,
          524.3706,
          524.7544,
          528.2,
          548.922,
          550.919,
          614.1923,
          654.97,
          669.2041,
          691.1845,
          693.471,
          699.4065,
          703.5729,
          707.1594,
          710.4969,
          712.928,
          714.4505,
          716.5549,
          727.4904,
          740.5218,
          742.5374,
          744.5888,
          749.544,
          751.6732,
          752.5186,
          755.5196,
          760.6232,
          761.5847,
          762.5407,
          764.5205,
          766.5586,
          768.5501,
          768.5867,
          769.5725,
          774.5403,
          775.4873,
          776.5555,
          776.5759,
          780.5502,
          781.5346,
          790.5353,
          790.5626,
          792.5522,
          794.5664,
          794.5914,
          796.5809,
          812.5204,
          814.5353,
          859.5295,
          870.6216,
          881.4714,
          977.6166,
          1004.6422,
          1006.6562,
          1014.6279,
          1025.6755,
          1088.6292
         ],
         "xaxis": "x",
         "y": [
          48420230,
          1606191,
          2268312,
          1368560333,
          585377,
          8689477,
          513524933,
          82433509,
          16054030,
          9472463,
          43411880,
          45846726,
          120962500,
          108141063,
          1582465,
          4066838,
          347813133,
          954042,
          1582673,
          306054000,
          100448959,
          2876613,
          397576,
          907496,
          1216396,
          100717343,
          19883283,
          610995133,
          1121992766,
          9108934,
          49486433,
          130926700,
          200003,
          725243,
          5764639,
          11892863,
          281603,
          601404,
          16182860,
          4011537,
          46065523,
          32039990,
          250549,
          776352,
          13388401,
          72628293,
          12275653,
          19088533,
          375171,
          620563,
          8209104,
          169953,
          38920,
          81400,
          34683576,
          743349,
          702003,
          107324,
          13309220,
          76240,
          44845760,
          13018020,
          41418850,
          10585880,
          18329573,
          10373184,
          6223091,
          11305196,
          25298600,
          50993560,
          8117239,
          76900393,
          118109,
          30404944,
          4744012,
          6481584,
          4928961,
          3249145333,
          12155135,
          11669329,
          16139936,
          130311,
          16895360,
          175156,
          125034223,
          1569926,
          21521240,
          130719200,
          3987272,
          11466280,
          5715170,
          63467,
          96437,
          6119415,
          5893700,
          13471656,
          517811,
          15277686,
          53211316,
          23722230,
          156240,
          47297206,
          163636966,
          103243093,
          1121065,
          100279153,
          1731156,
          300638433,
          44025,
          168386,
          99496880,
          2843849,
          220813,
          65513420,
          1621050,
          453881,
          79554,
          33736623,
          27329593,
          1200119,
          291943,
          532154,
          1046311,
          434552,
          5198919,
          751672,
          6526320,
          35836996,
          29177853,
          134845900,
          1379467,
          5323393,
          60453623,
          7622829,
          65407326,
          565872,
          5345530,
          384103,
          47769520,
          2015281,
          3764143,
          30079576,
          2625188,
          11628287,
          3390254,
          3221913,
          989483,
          52216,
          78281,
          129185,
          537088,
          361145,
          467725,
          923378,
          278075
         ],
         "yaxis": "y"
        }
       ],
       "layout": {
        "legend": {
         "title": {
          "text": "variable"
         },
         "tracegroupgap": 0
        },
        "margin": {
         "t": 60
        },
        "template": {
         "data": {
          "bar": [
           {
            "error_x": {
             "color": "#2a3f5f"
            },
            "error_y": {
             "color": "#2a3f5f"
            },
            "marker": {
             "line": {
              "color": "#E5ECF6",
              "width": 0.5
             },
             "pattern": {
              "fillmode": "overlay",
              "size": 10,
              "solidity": 0.2
             }
            },
            "type": "bar"
           }
          ],
          "barpolar": [
           {
            "marker": {
             "line": {
              "color": "#E5ECF6",
              "width": 0.5
             },
             "pattern": {
              "fillmode": "overlay",
              "size": 10,
              "solidity": 0.2
             }
            },
            "type": "barpolar"
           }
          ],
          "carpet": [
           {
            "aaxis": {
             "endlinecolor": "#2a3f5f",
             "gridcolor": "white",
             "linecolor": "white",
             "minorgridcolor": "white",
             "startlinecolor": "#2a3f5f"
            },
            "baxis": {
             "endlinecolor": "#2a3f5f",
             "gridcolor": "white",
             "linecolor": "white",
             "minorgridcolor": "white",
             "startlinecolor": "#2a3f5f"
            },
            "type": "carpet"
           }
          ],
          "choropleth": [
           {
            "colorbar": {
             "outlinewidth": 0,
             "ticks": ""
            },
            "type": "choropleth"
           }
          ],
          "contour": [
           {
            "colorbar": {
             "outlinewidth": 0,
             "ticks": ""
            },
            "colorscale": [
             [
              0,
              "#0d0887"
             ],
             [
              0.1111111111111111,
              "#46039f"
             ],
             [
              0.2222222222222222,
              "#7201a8"
             ],
             [
              0.3333333333333333,
              "#9c179e"
             ],
             [
              0.4444444444444444,
              "#bd3786"
             ],
             [
              0.5555555555555556,
              "#d8576b"
             ],
             [
              0.6666666666666666,
              "#ed7953"
             ],
             [
              0.7777777777777778,
              "#fb9f3a"
             ],
             [
              0.8888888888888888,
              "#fdca26"
             ],
             [
              1,
              "#f0f921"
             ]
            ],
            "type": "contour"
           }
          ],
          "contourcarpet": [
           {
            "colorbar": {
             "outlinewidth": 0,
             "ticks": ""
            },
            "type": "contourcarpet"
           }
          ],
          "heatmap": [
           {
            "colorbar": {
             "outlinewidth": 0,
             "ticks": ""
            },
            "colorscale": [
             [
              0,
              "#0d0887"
             ],
             [
              0.1111111111111111,
              "#46039f"
             ],
             [
              0.2222222222222222,
              "#7201a8"
             ],
             [
              0.3333333333333333,
              "#9c179e"
             ],
             [
              0.4444444444444444,
              "#bd3786"
             ],
             [
              0.5555555555555556,
              "#d8576b"
             ],
             [
              0.6666666666666666,
              "#ed7953"
             ],
             [
              0.7777777777777778,
              "#fb9f3a"
             ],
             [
              0.8888888888888888,
              "#fdca26"
             ],
             [
              1,
              "#f0f921"
             ]
            ],
            "type": "heatmap"
           }
          ],
          "heatmapgl": [
           {
            "colorbar": {
             "outlinewidth": 0,
             "ticks": ""
            },
            "colorscale": [
             [
              0,
              "#0d0887"
             ],
             [
              0.1111111111111111,
              "#46039f"
             ],
             [
              0.2222222222222222,
              "#7201a8"
             ],
             [
              0.3333333333333333,
              "#9c179e"
             ],
             [
              0.4444444444444444,
              "#bd3786"
             ],
             [
              0.5555555555555556,
              "#d8576b"
             ],
             [
              0.6666666666666666,
              "#ed7953"
             ],
             [
              0.7777777777777778,
              "#fb9f3a"
             ],
             [
              0.8888888888888888,
              "#fdca26"
             ],
             [
              1,
              "#f0f921"
             ]
            ],
            "type": "heatmapgl"
           }
          ],
          "histogram": [
           {
            "marker": {
             "pattern": {
              "fillmode": "overlay",
              "size": 10,
              "solidity": 0.2
             }
            },
            "type": "histogram"
           }
          ],
          "histogram2d": [
           {
            "colorbar": {
             "outlinewidth": 0,
             "ticks": ""
            },
            "colorscale": [
             [
              0,
              "#0d0887"
             ],
             [
              0.1111111111111111,
              "#46039f"
             ],
             [
              0.2222222222222222,
              "#7201a8"
             ],
             [
              0.3333333333333333,
              "#9c179e"
             ],
             [
              0.4444444444444444,
              "#bd3786"
             ],
             [
              0.5555555555555556,
              "#d8576b"
             ],
             [
              0.6666666666666666,
              "#ed7953"
             ],
             [
              0.7777777777777778,
              "#fb9f3a"
             ],
             [
              0.8888888888888888,
              "#fdca26"
             ],
             [
              1,
              "#f0f921"
             ]
            ],
            "type": "histogram2d"
           }
          ],
          "histogram2dcontour": [
           {
            "colorbar": {
             "outlinewidth": 0,
             "ticks": ""
            },
            "colorscale": [
             [
              0,
              "#0d0887"
             ],
             [
              0.1111111111111111,
              "#46039f"
             ],
             [
              0.2222222222222222,
              "#7201a8"
             ],
             [
              0.3333333333333333,
              "#9c179e"
             ],
             [
              0.4444444444444444,
              "#bd3786"
             ],
             [
              0.5555555555555556,
              "#d8576b"
             ],
             [
              0.6666666666666666,
              "#ed7953"
             ],
             [
              0.7777777777777778,
              "#fb9f3a"
             ],
             [
              0.8888888888888888,
              "#fdca26"
             ],
             [
              1,
              "#f0f921"
             ]
            ],
            "type": "histogram2dcontour"
           }
          ],
          "mesh3d": [
           {
            "colorbar": {
             "outlinewidth": 0,
             "ticks": ""
            },
            "type": "mesh3d"
           }
          ],
          "parcoords": [
           {
            "line": {
             "colorbar": {
              "outlinewidth": 0,
              "ticks": ""
             }
            },
            "type": "parcoords"
           }
          ],
          "pie": [
           {
            "automargin": true,
            "type": "pie"
           }
          ],
          "scatter": [
           {
            "fillpattern": {
             "fillmode": "overlay",
             "size": 10,
             "solidity": 0.2
            },
            "type": "scatter"
           }
          ],
          "scatter3d": [
           {
            "line": {
             "colorbar": {
              "outlinewidth": 0,
              "ticks": ""
             }
            },
            "marker": {
             "colorbar": {
              "outlinewidth": 0,
              "ticks": ""
             }
            },
            "type": "scatter3d"
           }
          ],
          "scattercarpet": [
           {
            "marker": {
             "colorbar": {
              "outlinewidth": 0,
              "ticks": ""
             }
            },
            "type": "scattercarpet"
           }
          ],
          "scattergeo": [
           {
            "marker": {
             "colorbar": {
              "outlinewidth": 0,
              "ticks": ""
             }
            },
            "type": "scattergeo"
           }
          ],
          "scattergl": [
           {
            "marker": {
             "colorbar": {
              "outlinewidth": 0,
              "ticks": ""
             }
            },
            "type": "scattergl"
           }
          ],
          "scattermapbox": [
           {
            "marker": {
             "colorbar": {
              "outlinewidth": 0,
              "ticks": ""
             }
            },
            "type": "scattermapbox"
           }
          ],
          "scatterpolar": [
           {
            "marker": {
             "colorbar": {
              "outlinewidth": 0,
              "ticks": ""
             }
            },
            "type": "scatterpolar"
           }
          ],
          "scatterpolargl": [
           {
            "marker": {
             "colorbar": {
              "outlinewidth": 0,
              "ticks": ""
             }
            },
            "type": "scatterpolargl"
           }
          ],
          "scatterternary": [
           {
            "marker": {
             "colorbar": {
              "outlinewidth": 0,
              "ticks": ""
             }
            },
            "type": "scatterternary"
           }
          ],
          "surface": [
           {
            "colorbar": {
             "outlinewidth": 0,
             "ticks": ""
            },
            "colorscale": [
             [
              0,
              "#0d0887"
             ],
             [
              0.1111111111111111,
              "#46039f"
             ],
             [
              0.2222222222222222,
              "#7201a8"
             ],
             [
              0.3333333333333333,
              "#9c179e"
             ],
             [
              0.4444444444444444,
              "#bd3786"
             ],
             [
              0.5555555555555556,
              "#d8576b"
             ],
             [
              0.6666666666666666,
              "#ed7953"
             ],
             [
              0.7777777777777778,
              "#fb9f3a"
             ],
             [
              0.8888888888888888,
              "#fdca26"
             ],
             [
              1,
              "#f0f921"
             ]
            ],
            "type": "surface"
           }
          ],
          "table": [
           {
            "cells": {
             "fill": {
              "color": "#EBF0F8"
             },
             "line": {
              "color": "white"
             }
            },
            "header": {
             "fill": {
              "color": "#C8D4E3"
             },
             "line": {
              "color": "white"
             }
            },
            "type": "table"
           }
          ]
         },
         "layout": {
          "annotationdefaults": {
           "arrowcolor": "#2a3f5f",
           "arrowhead": 0,
           "arrowwidth": 1
          },
          "autotypenumbers": "strict",
          "coloraxis": {
           "colorbar": {
            "outlinewidth": 0,
            "ticks": ""
           }
          },
          "colorscale": {
           "diverging": [
            [
             0,
             "#8e0152"
            ],
            [
             0.1,
             "#c51b7d"
            ],
            [
             0.2,
             "#de77ae"
            ],
            [
             0.3,
             "#f1b6da"
            ],
            [
             0.4,
             "#fde0ef"
            ],
            [
             0.5,
             "#f7f7f7"
            ],
            [
             0.6,
             "#e6f5d0"
            ],
            [
             0.7,
             "#b8e186"
            ],
            [
             0.8,
             "#7fbc41"
            ],
            [
             0.9,
             "#4d9221"
            ],
            [
             1,
             "#276419"
            ]
           ],
           "sequential": [
            [
             0,
             "#0d0887"
            ],
            [
             0.1111111111111111,
             "#46039f"
            ],
            [
             0.2222222222222222,
             "#7201a8"
            ],
            [
             0.3333333333333333,
             "#9c179e"
            ],
            [
             0.4444444444444444,
             "#bd3786"
            ],
            [
             0.5555555555555556,
             "#d8576b"
            ],
            [
             0.6666666666666666,
             "#ed7953"
            ],
            [
             0.7777777777777778,
             "#fb9f3a"
            ],
            [
             0.8888888888888888,
             "#fdca26"
            ],
            [
             1,
             "#f0f921"
            ]
           ],
           "sequentialminus": [
            [
             0,
             "#0d0887"
            ],
            [
             0.1111111111111111,
             "#46039f"
            ],
            [
             0.2222222222222222,
             "#7201a8"
            ],
            [
             0.3333333333333333,
             "#9c179e"
            ],
            [
             0.4444444444444444,
             "#bd3786"
            ],
            [
             0.5555555555555556,
             "#d8576b"
            ],
            [
             0.6666666666666666,
             "#ed7953"
            ],
            [
             0.7777777777777778,
             "#fb9f3a"
            ],
            [
             0.8888888888888888,
             "#fdca26"
            ],
            [
             1,
             "#f0f921"
            ]
           ]
          },
          "colorway": [
           "#636efa",
           "#EF553B",
           "#00cc96",
           "#ab63fa",
           "#FFA15A",
           "#19d3f3",
           "#FF6692",
           "#B6E880",
           "#FF97FF",
           "#FECB52"
          ],
          "font": {
           "color": "#2a3f5f"
          },
          "geo": {
           "bgcolor": "white",
           "lakecolor": "white",
           "landcolor": "#E5ECF6",
           "showlakes": true,
           "showland": true,
           "subunitcolor": "white"
          },
          "hoverlabel": {
           "align": "left"
          },
          "hovermode": "closest",
          "mapbox": {
           "style": "light"
          },
          "paper_bgcolor": "white",
          "plot_bgcolor": "#E5ECF6",
          "polar": {
           "angularaxis": {
            "gridcolor": "white",
            "linecolor": "white",
            "ticks": ""
           },
           "bgcolor": "#E5ECF6",
           "radialaxis": {
            "gridcolor": "white",
            "linecolor": "white",
            "ticks": ""
           }
          },
          "scene": {
           "xaxis": {
            "backgroundcolor": "#E5ECF6",
            "gridcolor": "white",
            "gridwidth": 2,
            "linecolor": "white",
            "showbackground": true,
            "ticks": "",
            "zerolinecolor": "white"
           },
           "yaxis": {
            "backgroundcolor": "#E5ECF6",
            "gridcolor": "white",
            "gridwidth": 2,
            "linecolor": "white",
            "showbackground": true,
            "ticks": "",
            "zerolinecolor": "white"
           },
           "zaxis": {
            "backgroundcolor": "#E5ECF6",
            "gridcolor": "white",
            "gridwidth": 2,
            "linecolor": "white",
            "showbackground": true,
            "ticks": "",
            "zerolinecolor": "white"
           }
          },
          "shapedefaults": {
           "line": {
            "color": "#2a3f5f"
           }
          },
          "ternary": {
           "aaxis": {
            "gridcolor": "white",
            "linecolor": "white",
            "ticks": ""
           },
           "baxis": {
            "gridcolor": "white",
            "linecolor": "white",
            "ticks": ""
           },
           "bgcolor": "#E5ECF6",
           "caxis": {
            "gridcolor": "white",
            "linecolor": "white",
            "ticks": ""
           }
          },
          "title": {
           "x": 0.05
          },
          "xaxis": {
           "automargin": true,
           "gridcolor": "white",
           "linecolor": "white",
           "ticks": "",
           "title": {
            "standoff": 15
           },
           "zerolinecolor": "white",
           "zerolinewidth": 2
          },
          "yaxis": {
           "automargin": true,
           "gridcolor": "white",
           "linecolor": "white",
           "ticks": "",
           "title": {
            "standoff": 15
           },
           "zerolinecolor": "white",
           "zerolinewidth": 2
          }
         }
        },
        "xaxis": {
         "anchor": "y",
         "domain": [
          0,
          1
         ],
         "title": {
          "text": "mzTrim"
         }
        },
        "yaxis": {
         "anchor": "x",
         "domain": [
          0,
          1
         ],
         "title": {
          "text": "value"
         }
        }
       }
      }
     },
     "metadata": {},
     "output_type": "display_data"
    }
   ],
   "source": [
    "import plotly.express as px\n",
    "\n",
    "\n",
    "# Create a scatter plot\n",
    "fig = px.line(grouped_mz)\n",
    "\n",
    "# Show the interactive plot\n",
    "fig.show()\n"
   ]
  },
  {
   "cell_type": "code",
   "execution_count": 124,
   "metadata": {},
   "outputs": [
    {
     "data": {
      "text/html": [
       "<div>\n",
       "<style scoped>\n",
       "    .dataframe tbody tr th:only-of-type {\n",
       "        vertical-align: middle;\n",
       "    }\n",
       "\n",
       "    .dataframe tbody tr th {\n",
       "        vertical-align: top;\n",
       "    }\n",
       "\n",
       "    .dataframe thead th {\n",
       "        text-align: right;\n",
       "    }\n",
       "</style>\n",
       "<table border=\"1\" class=\"dataframe\">\n",
       "  <thead>\n",
       "    <tr style=\"text-align: right;\">\n",
       "      <th></th>\n",
       "      <th></th>\n",
       "      <th>treatment_mean</th>\n",
       "    </tr>\n",
       "    <tr>\n",
       "      <th>mzTrim</th>\n",
       "      <th></th>\n",
       "      <th></th>\n",
       "    </tr>\n",
       "  </thead>\n",
       "  <tbody>\n",
       "    <tr>\n",
       "      <th>88.0755</th>\n",
       "      <th>84</th>\n",
       "      <td>48420230</td>\n",
       "    </tr>\n",
       "    <tr>\n",
       "      <th>99.0745</th>\n",
       "      <th>142</th>\n",
       "      <td>1606191</td>\n",
       "    </tr>\n",
       "    <tr>\n",
       "      <th>99.0746</th>\n",
       "      <th>144</th>\n",
       "      <td>2268312</td>\n",
       "    </tr>\n",
       "    <tr>\n",
       "      <th>114.0660</th>\n",
       "      <th>124</th>\n",
       "      <td>1368560333</td>\n",
       "    </tr>\n",
       "    <tr>\n",
       "      <th>123.0789</th>\n",
       "      <th>90</th>\n",
       "      <td>585377</td>\n",
       "    </tr>\n",
       "    <tr>\n",
       "      <th>...</th>\n",
       "      <th>...</th>\n",
       "      <td>...</td>\n",
       "    </tr>\n",
       "    <tr>\n",
       "      <th>1004.6422</th>\n",
       "      <th>5</th>\n",
       "      <td>537088</td>\n",
       "    </tr>\n",
       "    <tr>\n",
       "      <th>1006.6562</th>\n",
       "      <th>107</th>\n",
       "      <td>361145</td>\n",
       "    </tr>\n",
       "    <tr>\n",
       "      <th>1014.6279</th>\n",
       "      <th>2</th>\n",
       "      <td>467725</td>\n",
       "    </tr>\n",
       "    <tr>\n",
       "      <th>1025.6755</th>\n",
       "      <th>141</th>\n",
       "      <td>923378</td>\n",
       "    </tr>\n",
       "    <tr>\n",
       "      <th>1088.6292</th>\n",
       "      <th>17</th>\n",
       "      <td>278075</td>\n",
       "    </tr>\n",
       "  </tbody>\n",
       "</table>\n",
       "<p>160 rows × 1 columns</p>\n",
       "</div>"
      ],
      "text/plain": [
       "               treatment_mean\n",
       "mzTrim                       \n",
       "88.0755   84         48420230\n",
       "99.0745   142         1606191\n",
       "99.0746   144         2268312\n",
       "114.0660  124      1368560333\n",
       "123.0789  90           585377\n",
       "...                       ...\n",
       "1004.6422 5            537088\n",
       "1006.6562 107          361145\n",
       "1014.6279 2            467725\n",
       "1025.6755 141          923378\n",
       "1088.6292 17           278075\n",
       "\n",
       "[160 rows x 1 columns]"
      ]
     },
     "execution_count": 124,
     "metadata": {},
     "output_type": "execute_result"
    }
   ],
   "source": [
    "\n",
    "control_dataset =  dataset.groupby(\"mzTrim\", group_keys=True)[['control_mean']].apply(lambda x: x)\n",
    "treatment_mean =  dataset.groupby(\"mzTrim\", group_keys=True)[['treatment_mean']].apply(lambda x: x)\n",
    "\n",
    "treatment_mean\n",
    "\n",
    "# # 5.894115e+05\n",
    "# q25 = dataset.describe().quantile(0.25)\n",
    "# low_level = round(q25['control_mean'])\n",
    "\n",
    "\n",
    "#Drop rows where control mean is less than the 25% quantile\n",
    "# dataset = dataset[(dataset['control_mean'] < low_level).all(1)]\n",
    "# dataset = dataset.loc[(dataset['control_mean'] < low_level).any(axis=1)]\n",
    "\n",
    "\n",
    "#take mean of experimental samples\n",
    "\n",
    "\n",
    "# #Re-arrange data\n",
    "# target_columns = ['mzTrim']+control_samples+treatment_samples\n",
    "\n",
    "# dataset = dataset[target_columns]\n",
    "\n",
    "# data_head = dataset.head(20)\n",
    "# print(data_head)\n"
   ]
  },
  {
   "cell_type": "code",
   "execution_count": 125,
   "metadata": {},
   "outputs": [
    {
     "data": {
      "image/png": "[encoded data removed]",
      "text/plain": [
       "<Figure size 640x480 with 1 Axes>"
      ]
     },
     "metadata": {},
     "output_type": "display_data"
    }
   ],
   "source": [
    "import matplotlib.pyplot as plt\n",
    "\n",
    "\n",
    "#plot bar chart = plot(kind='bar'), this takes very long time!\n",
    "\n",
    "# control = dataset['control_mean']\n",
    "# treatment = dataset['treatment_mean']\n",
    "control = mz_control\n",
    "treatment = mz_treatment \n",
    "\n",
    "\n",
    "treatment.plot(color='red')\n",
    "control.plot(color='blue',alpha=0.3)\n",
    "\n",
    "# mz = dataset['mzTrim'] \n",
    "# control = dataset['control_mean']\n",
    "# test = dataset['treatment_samples']\n",
    "# plt.scatter(mz, control, color='green', marker='.', label='control')\n",
    "# plt.scatter(mz, test, color='blue', marker='.', label='test')\n",
    "\n",
    "# Add labels and title\n",
    "plt.xlabel('mz')\n",
    "plt.ylabel('Abundance')\n",
    "plt.title('Metabolomic Profile')\n",
    "\n",
    "# Add a legend\n",
    "plt.legend()\n",
    "\n",
    "plt.show()\n",
    "\n"
   ]
  },
  {
   "cell_type": "code",
   "execution_count": 126,
   "metadata": {},
   "outputs": [
    {
     "name": "stderr",
     "output_type": "stream",
     "text": [
      "No handles with labels found to put in legend.\n"
     ]
    },
    {
     "data": {
      "image/png": "[encoded data removed]",
      "text/plain": [
       "<Figure size 640x480 with 1 Axes>"
      ]
     },
     "metadata": {},
     "output_type": "display_data"
    }
   ],
   "source": [
    "import numpy as np\n",
    "\n",
    "difference = control-treatment\n",
    "\n",
    "data = np.ones(1,difference)*difference\n",
    "\n",
    "# colr = difference>0, 'red'\n",
    "# colr = difference<=0, 'blue'\n",
    "\n",
    "# colr = 'red' if(difference>0) else 'blue'\n",
    "\n",
    "# colr = np.where(data<0,'b','r')\n",
    "# colr = np.where(data<0,'r',np.where(data>0,'b','r'))\n",
    "\n",
    "difference.plot(color='k')\n",
    "\n",
    "# Add labels and title\n",
    "plt.xlabel('mz')\n",
    "plt.ylabel('Amount')\n",
    "plt.title('Abundance Difference')\n",
    "\n",
    "ax = plt.gca()\n",
    "# ax.set_xlim([0, 3])\n",
    "# ax.set_ylim([0, 1e9])\n",
    "\n",
    "# Add a legend\n",
    "plt.legend()\n",
    "\n",
    "plt.show()\n"
   ]
  },
  {
   "cell_type": "code",
   "execution_count": 127,
   "metadata": {},
   "outputs": [
    {
     "data": {
      "image/png": "[encoded data removed]",
      "text/plain": [
       "<Figure size 640x480 with 1 Axes>"
      ]
     },
     "metadata": {},
     "output_type": "display_data"
    }
   ],
   "source": [
    "data = [control, treatment]\n",
    "\n",
    "plt.boxplot(data, labels=['control', 'treatment'], patch_artist=True, notch=True)\n",
    "\n",
    "plt.xlabel('Samples')\n",
    "plt.ylabel('Abundance')\n",
    "plt.title('Box plot: Samples Distribution Comparison')\n",
    "\n",
    "# ax = plt.gca()\n",
    "# ax.set_xlim([0, 3])\n",
    "# ax.set_ylim([0, 1e7])\n",
    "\n",
    "\n",
    "plt.show()"
   ]
  },
  {
   "cell_type": "code",
   "execution_count": 128,
   "metadata": {},
   "outputs": [],
   "source": [
    "\n",
    "\n",
    "# # Generate data for a bar chart\n",
    "# categories = ['Category A', 'Category B', 'Category C']\n",
    "# values = [25, 40, 15]\n",
    "\n",
    "# # Create a bar chart\n",
    "# plt.bar(categories, values, color='orange', edgecolor='black', label='Bar chart')\n",
    "\n",
    "# # Add labels and title\n",
    "# plt.xlabel('Categories')\n",
    "# plt.ylabel('Values')\n",
    "# plt.title('Bar chart: Category comparison')\n",
    "\n",
    "# # Add a legend\n",
    "# plt.legend()\n",
    "\n",
    "# # Show the plot\n",
    "# plt.show()\n"
   ]
  },
  {
   "cell_type": "code",
   "execution_count": 129,
   "metadata": {},
   "outputs": [],
   "source": [
    "# fig = plt.figure()\n",
    "# ax = fig.add_subplot(111)\n",
    "# ax.spines['left'].set_position('zero')\n",
    "# ax.spines['right'].set_color('none')\n",
    "# ax.spines['bottom'].set_position('zero')\n",
    "# ax.spines['top'].set_color('none')\n",
    "# plt.axis([-5,5,-5,5])\n",
    "# ax.xaxis.set_ticks_position('bottom')\n",
    "# ax.yaxis.set_ticks_position('left')\n",
    "# plt.grid()\n",
    "# plt.arrow(0,0, 3,1, head_width=0.2, color='r', length_includes_head=True, label='u')\n",
    "# plt.arrow(0,0, 1,3, head_width=0.2, color='r', length_includes_head=True, label='v')\n",
    "# plt.arrow(0,0, 4,4, head_width=0.2, color='r', length_includes_head=True, label='u+v')\n",
    "# ax.legend()"
   ]
  },
  {
   "cell_type": "code",
   "execution_count": null,
   "metadata": {},
   "outputs": [],
   "source": []
  }
 ],
 "metadata": {
  "kernelspec": {
   "display_name": "base",
   "language": "python",
   "name": "python3"
  },
  "language_info": {
   "codemirror_mode": {
    "name": "ipython",
    "version": 3
   },
   "file_extension": ".py",
   "mimetype": "text/x-python",
   "name": "python",
   "nbconvert_exporter": "python",
   "pygments_lexer": "ipython3",
   "version": "3.8.8"
  }
 },
 "nbformat": 4,
 "nbformat_minor": 2
}
